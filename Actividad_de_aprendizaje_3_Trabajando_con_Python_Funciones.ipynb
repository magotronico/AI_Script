{
  "nbformat": 4,
  "nbformat_minor": 0,
  "metadata": {
    "colab": {
      "provenance": [],
      "toc_visible": true,
      "authorship_tag": "ABX9TyMttnmItBVOgIePBSaB7TB6",
      "include_colab_link": true
    },
    "kernelspec": {
      "name": "python3",
      "display_name": "Python 3"
    },
    "language_info": {
      "name": "python"
    }
  },
  "cells": [
    {
      "cell_type": "markdown",
      "metadata": {
        "id": "view-in-github",
        "colab_type": "text"
      },
      "source": [
        "<a href=\"https://colab.research.google.com/github/magotronico/AI_Script/blob/main/Actividad_de_aprendizaje_3_Trabajando_con_Python_Funciones.ipynb\" target=\"_parent\"><img src=\"https://colab.research.google.com/assets/colab-badge.svg\" alt=\"Open In Colab\"/></a>"
      ]
    },
    {
      "cell_type": "markdown",
      "source": [
        "# Actividad de aprendizaje 3: Trabajando con Python. Funciones\n",
        "Dilan González Castañeda A00831905\n"
      ],
      "metadata": {
        "id": "BfRSozuqaEKR"
      }
    },
    {
      "cell_type": "markdown",
      "source": [
        "## Problema 0\n",
        "\n",
        "Escribir una función que calcule el total de una factura tras aplicarle el IVA. La función debe recibir la cantidad sin IVA y el porcentaje de IVA a aplicar, y devolver el total de la factura. Si se invoca la función sin pasarle el porcentaje de IVA, deberá aplicar un 21%.\n",
        "\n"
      ],
      "metadata": {
        "id": "1OjZLGTXZpnm"
      }
    },
    {
      "cell_type": "code",
      "execution_count": 30,
      "metadata": {
        "colab": {
          "base_uri": "https://localhost:8080/"
        },
        "id": "bluZ1GixZoKu",
        "outputId": "ad6c32cd-1f7c-468d-d2e6-4ca7d39fa3ce"
      },
      "outputs": [
        {
          "output_type": "stream",
          "name": "stdout",
          "text": [
            "121.0\n",
            "1700\n"
          ]
        }
      ],
      "source": [
        "def calc_total(subtotal: float, iva: float = 0.21) -> float:\n",
        "  return subtotal * (1 + iva)\n",
        "\n",
        "print(calc_total(100))\n",
        "print(calc_total(100, 16))"
      ]
    },
    {
      "cell_type": "markdown",
      "source": [
        "## Problema 1\n",
        "Escribir una función que reciba una muestra de números en una lista y devuelva un diccionario con su media, varianza y desviación típica."
      ],
      "metadata": {
        "id": "RdjhOQbVZvni"
      }
    },
    {
      "cell_type": "code",
      "source": [
        "import math\n",
        "import numpy as np\n",
        "from typing import List\n",
        "\n",
        "def calc_estadisticos(nums: List[int]) -> dict:\n",
        "  media = np.mean(nums)\n",
        "  varianza = np.var(nums)\n",
        "  desviacion = np.std(nums)\n",
        "\n",
        "  return {\"media\": media, \"varianza\": varianza, \"desviacion\": desviacion}\n",
        "\n",
        "print(calc_estadisticos([1, 2, 3, 4, 5]))"
      ],
      "metadata": {
        "colab": {
          "base_uri": "https://localhost:8080/"
        },
        "id": "ZBxRMfDnaKhS",
        "outputId": "103f8aed-6074-4afa-892c-f1fe5225eaa4"
      },
      "execution_count": 12,
      "outputs": [
        {
          "output_type": "stream",
          "name": "stdout",
          "text": [
            "{'media': 3.0, 'varianza': 2.0, 'desviacion': 1.4142135623730951}\n"
          ]
        }
      ]
    },
    {
      "cell_type": "markdown",
      "source": [
        "## Problema 2\n",
        "Definir una función que calcule la longitud de una lista o una cadena dada. (Es cierto que python tiene la función len() incorporada, pero escribirla por nosotros mismos resulta un muy buen ejercicio."
      ],
      "metadata": {
        "id": "-ebYBSW0ZyR_"
      }
    },
    {
      "cell_type": "code",
      "source": [
        "from typing import List, TypeVar\n",
        "\n",
        "T = TypeVar('T')\n",
        "\n",
        "def lenght(lst: List[T]) -> int:\n",
        "  count = 0\n",
        "\n",
        "  for _ in lst:\n",
        "    count += 1\n",
        "\n",
        "  return count\n",
        "\n",
        "print(lenght([1, 2.3, 3, \"Hello\", 5]))"
      ],
      "metadata": {
        "colab": {
          "base_uri": "https://localhost:8080/"
        },
        "id": "E7NimOCKaK71",
        "outputId": "43ceec01-6260-4e0b-b2f2-3125d8d6e5d3"
      },
      "execution_count": 17,
      "outputs": [
        {
          "output_type": "stream",
          "name": "stdout",
          "text": [
            "5\n"
          ]
        }
      ]
    },
    {
      "cell_type": "markdown",
      "source": [
        "## Problema 3\n",
        "Escribir un programa que reciba una cadena de caracteres y devuelva un diccionario con cada palabra que contiene y su frecuencia. Escribir otra función que reciba el diccionario generado con la función anterior y devuelva una tupla con la palabra más repetida y su frecuencia."
      ],
      "metadata": {
        "id": "YnkfkhssZ397"
      }
    },
    {
      "cell_type": "code",
      "source": [
        "from math import inf\n",
        "\n",
        "def count_words(sentence: str) -> dict:\n",
        "  words = sentence.split()\n",
        "  counts = {}\n",
        "\n",
        "  for word in words:\n",
        "    if word in counts:\n",
        "      counts[word] += 1\n",
        "    else:\n",
        "      counts[word] = 1\n",
        "\n",
        "  return counts\n",
        "\n",
        "def most_repeated(counts: dict) -> tuple:\n",
        "  max = -inf\n",
        "\n",
        "  # Value of most repeated word (s)\n",
        "  for word, count in counts.items():\n",
        "    if count > max:\n",
        "      max = count\n",
        "\n",
        "  # In order to handle tied\n",
        "  word_max = ()\n",
        "  for word, count in counts.items():\n",
        "    if count == max:\n",
        "      word_max = word_max + (word,)\n",
        "\n",
        "  res = word_max + (max,)\n",
        "\n",
        "  return res\n",
        "\n",
        "if __name__ == '__main__':\n",
        "  string = \"El bosque era un lugar mágico. Los árboles, altos y esbeltos, se elevaban hacia el cielo como gigantes vigilantes. Sus hojas, verdes y brillantes, bailaban al ritmo del viento. El suelo, cubierto de hojas secas y musgo, era suave como una alfombra. El silencio, profundo y absoluto, solo era interrumpido por el canto de los pájaros.\"\n",
        "\n",
        "  print(most_repeated(count_words(string)))"
      ],
      "metadata": {
        "colab": {
          "base_uri": "https://localhost:8080/"
        },
        "id": "v1w-rQglaLSN",
        "outputId": "7b7bc57f-858e-42b2-8449-3f91a72165e7"
      },
      "execution_count": 25,
      "outputs": [
        {
          "output_type": "stream",
          "name": "stdout",
          "text": [
            "('y', 4)\n"
          ]
        }
      ]
    },
    {
      "cell_type": "markdown",
      "source": [
        "## Problema 4\n",
        "Crea una función llamada es_primo que determine si un número es primo. La función debe recibir un número entero como parámetro y devolver True si el número es primo, o False en caso contrario"
      ],
      "metadata": {
        "id": "jJVNOVJLZ7q6"
      }
    },
    {
      "cell_type": "code",
      "source": [
        "def es_primo(num: int) -> bool:\n",
        "  if num < 2:\n",
        "    return False\n",
        "\n",
        "  for i in range(2, num):\n",
        "    if num % i == 0:\n",
        "      return False\n",
        "\n",
        "  return True\n",
        "\n",
        "if __name__ == '__main__':\n",
        "  print(es_primo(1))\n",
        "  print(es_primo(2))\n",
        "  print(es_primo(3))\n",
        "  print(es_primo(4))\n",
        "  print(es_primo(5))"
      ],
      "metadata": {
        "colab": {
          "base_uri": "https://localhost:8080/"
        },
        "id": "0cDcM3ftaLte",
        "outputId": "8861662c-fb3a-4f36-b066-20a423fac39d"
      },
      "execution_count": 27,
      "outputs": [
        {
          "output_type": "stream",
          "name": "stdout",
          "text": [
            "False\n",
            "True\n",
            "True\n",
            "False\n",
            "True\n"
          ]
        }
      ]
    },
    {
      "cell_type": "markdown",
      "source": [
        "## Problema 5\n",
        "Escribe una función llamada convertir_temperatura que convierta temperaturas de grados Celsius a grados Fahrenheit. La función debe recibir un parámetro, la temperatura en Celsius, y devolver la temperatura equivalente en Fahrenheit."
      ],
      "metadata": {
        "id": "MtOV-wfsZ-1Y"
      }
    },
    {
      "cell_type": "code",
      "source": [
        "def convertir_temperatura(celsius: float) -> float:\n",
        "  return celsius * 9/5 + 32\n",
        "\n",
        "if __name__ == '__main__':\n",
        "  print(convertir_temperatura(0))\n",
        "  print(convertir_temperatura(100))"
      ],
      "metadata": {
        "colab": {
          "base_uri": "https://localhost:8080/"
        },
        "id": "Mnppg3oaaMIv",
        "outputId": "b74ca49d-cd18-481a-8c6e-e87df5163ea3"
      },
      "execution_count": 28,
      "outputs": [
        {
          "output_type": "stream",
          "name": "stdout",
          "text": [
            "32.0\n",
            "212.0\n"
          ]
        }
      ]
    }
  ]
}